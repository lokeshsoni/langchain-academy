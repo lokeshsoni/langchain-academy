{
 "cells": [
  {
   "cell_type": "markdown",
   "id": "fb0ebaf1",
   "metadata": {},
   "source": [
    "[![Open in Colab](https://colab.research.google.com/assets/colab-badge.svg)](https://colab.research.google.com/github/langchain-ai/langchain-academy/blob/main/module-2/trim-filter-messages.ipynb) [![Open in LangChain Academy](https://cdn.prod.website-files.com/65b8cd72835ceeacd4449a53/66e9eba12c7b7688aa3dbb5e_LCA-badge-green.svg)](https://academy.langchain.com/courses/take/intro-to-langgraph/lessons/58239435-lesson-4-trim-and-filter-messages)"
   ]
  },
  {
   "cell_type": "markdown",
   "id": "c52ea2f9-03ff-4647-b782-46867ebed04e",
   "metadata": {},
   "source": [
    "# Filtering and trimming messages\n",
    "\n",
    "## Review\n",
    "\n",
    "Now, we have a deeper understanding of a few things: \n",
    "\n",
    "* How to customize the graph state schema\n",
    "* How to define custom state reducers\n",
    "* How to use multiple graph state schemas\n",
    "\n",
    "## Goals\n",
    "\n",
    "Now, we can start using these concepts with models in LangGraph!\n",
    " \n",
    "In the next few sessions, we'll build towards a chatbot that has long-term memory.\n",
    "\n",
    "Because our chatbot will use messages, let's first talk a bit more about advanced ways to work with messages in graph state."
   ]
  },
  {
   "cell_type": "code",
   "execution_count": 1,
   "id": "d5197aba-5d46-421b-ae3b-4e3034edcfda",
   "metadata": {},
   "outputs": [],
   "source": [
    "%%capture --no-stderr\n",
    "%pip install --quiet -U langchain_core langgraph langchain_openai"
   ]
  },
  {
   "cell_type": "code",
   "execution_count": 2,
   "id": "768dc606-d5f2-468d-96ea-910b264e0f8a",
   "metadata": {},
   "outputs": [],
   "source": [
    "import os, getpass\n",
    "\n",
    "\n",
    "def _set_env(var: str):\n",
    "    if not os.environ.get(var):\n",
    "        os.environ[var] = getpass.getpass(f\"{var}: \")\n",
    "\n",
    "\n",
    "_set_env(\"OPENAI_API_KEY\")"
   ]
  },
  {
   "cell_type": "markdown",
   "id": "8b64d8d3-e4ac-4961-bdc0-688825eb5864",
   "metadata": {},
   "source": [
    "We'll use [LangSmith](https://docs.smith.langchain.com/) for [tracing](https://docs.smith.langchain.com/concepts/tracing).\n",
    "\n",
    "We'll log to a project, `langchain-academy`. "
   ]
  },
  {
   "cell_type": "code",
   "execution_count": 3,
   "id": "dd020c79",
   "metadata": {},
   "outputs": [],
   "source": [
    "_set_env(\"LANGCHAIN_API_KEY\")\n",
    "\n",
    "os.environ[\"LANGCHAIN_TRACING_V2\"] = \"true\"\n",
    "os.environ[\"LANGCHAIN_PROJECT\"] = \"langchain-academy\""
   ]
  },
  {
   "cell_type": "markdown",
   "id": "72f3fc90-58b6-4f7f-897e-dddf6ae532c7",
   "metadata": {},
   "source": [
    "## Messages as state\n",
    "\n",
    "First, let's define some messages."
   ]
  },
  {
   "cell_type": "code",
   "execution_count": 4,
   "id": "cf11a463-e27a-4a05-b41d-64882e38edca",
   "metadata": {},
   "outputs": [
    {
     "name": "stdout",
     "output_type": "stream",
     "text": [
      "==================================\u001b[1m Ai Message \u001b[0m==================================\n",
      "Name: Bot\n",
      "\n",
      "So you said you were researching ocean mammals?\n",
      "================================\u001b[1m Human Message \u001b[0m=================================\n",
      "Name: Lance\n",
      "\n",
      "Yes, I know about whales. But what others should I learn about?\n"
     ]
    }
   ],
   "source": [
    "from pprint import pprint\n",
    "from langchain_core.messages import AIMessage, HumanMessage\n",
    "\n",
    "messages = [AIMessage(f\"So you said you were researching ocean mammals?\", name=\"Bot\")]\n",
    "messages.append(\n",
    "    HumanMessage(\n",
    "        f\"Yes, I know about whales. But what others should I learn about?\", name=\"Lance\"\n",
    "    )\n",
    ")\n",
    "\n",
    "for m in messages:\n",
    "    m.pretty_print()"
   ]
  },
  {
   "cell_type": "markdown",
   "id": "b814adcb-6bf9-4b75-be11-e59f933fbd0c",
   "metadata": {},
   "source": [
    "Recall we can pass them to a chat model."
   ]
  },
  {
   "cell_type": "code",
   "execution_count": 5,
   "id": "4712e288-e622-48a2-ad3f-a52f65f3ab08",
   "metadata": {},
   "outputs": [
    {
     "data": {
      "text/plain": [
       "AIMessage(content='In addition to whales, there are several other fascinating ocean mammals you might want to explore:\\n\\n1. **Dolphins**: Known for their intelligence and playful behavior, dolphins are social creatures often seen in pods. There are many species, including the bottlenose dolphin and the orca, which is actually the largest member of the dolphin family.\\n\\n2. **Porpoises**: Similar to dolphins but generally smaller with different facial structures and teeth, porpoises are more elusive and less studied than dolphins.\\n\\n3. **Seals**: These pinnipeds are divided into two main families—true seals and eared seals (which include sea lions and fur seals). They are known for their adaptations to both land and water environments.\\n\\n4. **Sea Lions**: Part of the eared seals family, sea lions are known for their external ear flaps and ability to walk on land using their large flippers.\\n\\n5. **Walruses**: Recognizable by their long tusks, walruses are social animals that primarily inhabit the Arctic region. They use their tusks for digging and mobility on ice.\\n\\n6. **Manatees and Dugongs**: These gentle giants, known as sea cows, are herbivores that graze on underwater grasses. Manatees are found in the warm coastal areas of the Atlantic Ocean, while dugongs inhabit the waters of the Indian and Pacific Oceans.\\n\\n7. **Sea Otters**: Although not strictly an ocean mammal, sea otters live in coastal areas and play a critical role in kelp forest ecosystems. They are known for their use of tools to open shellfish.\\n\\n8. **Polar Bears**: These large carnivores are marine mammals that spend much of their time on sea ice hunting seals and are excellent swimmers.\\n\\nEach of these species has unique adaptations and ecological roles within their environments, making them interesting subjects for further study.', additional_kwargs={'refusal': None}, response_metadata={'token_usage': {'completion_tokens': 387, 'prompt_tokens': 39, 'total_tokens': 426, 'completion_tokens_details': {'accepted_prediction_tokens': 0, 'audio_tokens': 0, 'reasoning_tokens': 0, 'rejected_prediction_tokens': 0}, 'prompt_tokens_details': {'audio_tokens': 0, 'cached_tokens': 0}}, 'model_name': 'gpt-4o-2024-08-06', 'system_fingerprint': 'fp_90d33c15d4', 'id': 'chatcmpl-BCLnh2E9FMK25MemHTBG5u9UCm0aN', 'finish_reason': 'stop', 'logprobs': None}, id='run-34858666-3510-4fe6-bc9d-9929a467172d-0', usage_metadata={'input_tokens': 39, 'output_tokens': 387, 'total_tokens': 426, 'input_token_details': {'audio': 0, 'cache_read': 0}, 'output_token_details': {'audio': 0, 'reasoning': 0}})"
      ]
     },
     "execution_count": 5,
     "metadata": {},
     "output_type": "execute_result"
    }
   ],
   "source": [
    "from langchain_openai import ChatOpenAI\n",
    "\n",
    "llm = ChatOpenAI(model=\"gpt-4o\")\n",
    "llm.invoke(messages)"
   ]
  },
  {
   "cell_type": "markdown",
   "id": "fbd1dab8-0af8-4621-8264-ce65065f76ec",
   "metadata": {},
   "source": [
    "We can run our chat model in a simple graph with `MessagesState`."
   ]
  },
  {
   "cell_type": "code",
   "execution_count": 6,
   "id": "bbd8c39c-633b-4176-9cc6-8318e42bb5dd",
   "metadata": {},
   "outputs": [
    {
     "data": {
      "image/png": "[encoded data removed]",
      "text/plain": [
       "<IPython.core.display.Image object>"
      ]
     },
     "metadata": {},
     "output_type": "display_data"
    }
   ],
   "source": [
    "from IPython.display import Image, display\n",
    "from langgraph.graph import MessagesState\n",
    "from langgraph.graph import StateGraph, START, END\n",
    "\n",
    "\n",
    "# Node\n",
    "def chat_model_node(state: MessagesState):\n",
    "    return {\"messages\": llm.invoke(state[\"messages\"])}\n",
    "\n",
    "\n",
    "# Build graph\n",
    "builder = StateGraph(MessagesState)\n",
    "builder.add_node(\"chat_model\", chat_model_node)\n",
    "builder.add_edge(START, \"chat_model\")\n",
    "builder.add_edge(\"chat_model\", END)\n",
    "graph = builder.compile()\n",
    "\n",
    "# View\n",
    "display(Image(graph.get_graph().draw_mermaid_png()))"
   ]
  },
  {
   "cell_type": "code",
   "execution_count": 7,
   "id": "3a5a3e4a-ccfd-4d14-81f1-f0de6e11a1e4",
   "metadata": {},
   "outputs": [
    {
     "name": "stdout",
     "output_type": "stream",
     "text": [
      "==================================\u001b[1m Ai Message \u001b[0m==================================\n",
      "Name: Bot\n",
      "\n",
      "So you said you were researching ocean mammals?\n",
      "================================\u001b[1m Human Message \u001b[0m=================================\n",
      "Name: Lance\n",
      "\n",
      "Yes, I know about whales. But what others should I learn about?\n",
      "==================================\u001b[1m Ai Message \u001b[0m==================================\n",
      "\n",
      "If you're interested in expanding your knowledge about ocean mammals beyond whales, here are a few other fascinating groups you might want to explore:\n",
      "\n",
      "1. **Dolphins**: These intelligent creatures are closely related to whales and are known for their playful behavior and complex social structures. Notable species include the bottlenose dolphin and the orca, or killer whale, which is technically a large dolphin.\n",
      "\n",
      "2. **Porpoises**: Often confused with dolphins, porpoises are smaller and have distinct differences in their physical appearance and social behavior. The vaquita is a critically endangered porpoise species worth learning about.\n",
      "\n",
      "3. **Seals and Sea Lions**: These pinnipeds are adapted to life both in water and on land. Seals include species like the harbor seal, while sea lions, such as the California sea lion, are known for their external ear flaps and loud barks.\n",
      "\n",
      "4. **Walrus**: Known for their distinctive tusks and whiskers, walruses are large pinnipeds found in Arctic regions. They use their tusks for various purposes, including helping them haul out of the water onto ice.\n",
      "\n",
      "5. **Manatees and Dugongs**: Known as \"sea cows,\" these gentle herbivores are part of the Sirenia order. Manatees are found in the warm coastal waters of the Atlantic Ocean, while dugongs are primarily located in the Indo-Pacific region.\n",
      "\n",
      "6. **Sea Otters**: Although not typically classified alongside big marine mammals like whales and dolphins, sea otters play a crucial role in coastal ecosystems and are known for their use of tools to open shells.\n",
      "\n",
      "7. **Polar Bears**: While mainly terrestrial, polar bears are considered marine mammals due to their reliance on the sea ice of the Arctic Ocean and their diet, which includes seals.\n",
      "\n",
      "Each of these marine mammals has unique adaptations and ecological roles, making them all fascinating subjects for further study.\n"
     ]
    }
   ],
   "source": [
    "output = graph.invoke({\"messages\": messages})\n",
    "for m in output[\"messages\"]:\n",
    "    m.pretty_print()"
   ]
  },
  {
   "cell_type": "markdown",
   "id": "34c33e63-1ef4-412d-bb10-6a1b9e5b35a7",
   "metadata": {},
   "source": [
    "## Reducer\n",
    "\n",
    "A practical challenge when working with messages is managing long-running conversations. \n",
    "\n",
    "Long-running conversations result in high token usage and latency if we are not careful, because we pass a growing list of messages to the model.\n",
    "\n",
    "We have a few ways to address this.\n",
    "\n",
    "First, recall the trick we saw using `RemoveMessage` and the `add_messages` reducer."
   ]
  },
  {
   "cell_type": "code",
   "execution_count": 8,
   "id": "222c6bc5-bb0e-4a43-80f5-c8ec38d99f3a",
   "metadata": {},
   "outputs": [
    {
     "data": {
      "image/png": "[encoded data removed]",
      "text/plain": [
       "<IPython.core.display.Image object>"
      ]
     },
     "metadata": {},
     "output_type": "display_data"
    }
   ],
   "source": [
    "from langchain_core.messages import RemoveMessage\n",
    "\n",
    "\n",
    "# Nodes\n",
    "def filter_messages(state: MessagesState):\n",
    "    # Delete all but the 2 most recent messages\n",
    "    delete_messages = [RemoveMessage(id=m.id) for m in state[\"messages\"][:-2]]\n",
    "    return {\"messages\": delete_messages}\n",
    "\n",
    "\n",
    "def chat_model_node(state: MessagesState):\n",
    "    return {\"messages\": [llm.invoke(state[\"messages\"])]}\n",
    "\n",
    "\n",
    "# Build graph\n",
    "builder = StateGraph(MessagesState)\n",
    "builder.add_node(\"filter\", filter_messages)\n",
    "builder.add_node(\"chat_model\", chat_model_node)\n",
    "builder.add_edge(START, \"filter\")\n",
    "builder.add_edge(\"filter\", \"chat_model\")\n",
    "builder.add_edge(\"chat_model\", END)\n",
    "graph = builder.compile()\n",
    "\n",
    "# View\n",
    "display(Image(graph.get_graph().draw_mermaid_png()))"
   ]
  },
  {
   "cell_type": "code",
   "execution_count": 9,
   "id": "95a7c2cc-54ce-43e7-9a90-abf37827d709",
   "metadata": {},
   "outputs": [
    {
     "name": "stdout",
     "output_type": "stream",
     "text": [
      "==================================\u001b[1m Ai Message \u001b[0m==================================\n",
      "Name: Bot\n",
      "\n",
      "So you said you were researching ocean mammals?\n",
      "================================\u001b[1m Human Message \u001b[0m=================================\n",
      "Name: Lance\n",
      "\n",
      "Yes, I know about whales. But what others should I learn about?\n",
      "==================================\u001b[1m Ai Message \u001b[0m==================================\n",
      "\n",
      "In addition to whales, there are several other fascinating ocean mammals that you might want to explore:\n",
      "\n",
      "1. **Dolphins**: These intelligent and social creatures are relatives of whales and are found in oceans around the world. They are known for their playful behavior and complex communication skills.\n",
      "\n",
      "2. **Porpoises**: These are smaller than dolphins and have shorter beaks and different shaped fins. Porpoises are often shyer and less acrobatic than their dolphin relatives.\n",
      "\n",
      "3. **Seals**: These include various species such as the harbor seal and the elephant seal. Seals are common along coastlines and are known for their ability to swim long distances and dive deep into the ocean.\n",
      "\n",
      "4. **Sea Lions**: These are members of the eared seal family and are characterized by their external ear flaps and large flippers, which allow them to \"walk\" on land.\n",
      "\n",
      "5. **Walrus**: Known for their long tusks and whiskers, walruses are large marine mammals that primarily inhabit Arctic regions. They are closely related to seals and sea lions.\n",
      "\n",
      "6. **Manatees and Dugongs**: Often referred to as \"sea cows,\" these large, gentle herbivores are found in warm coastal waters and rivers. They are known for their slow movement and grazing on seagrasses.\n",
      "\n",
      "7. **Sea Otters**: Although they spend much of their time in the water, sea otters are unique for their use of tools, such as rocks to open shellfish, while floating on their backs.\n",
      "\n",
      "8. **Polar Bears**: While primarily land mammals, polar bears are considered marine mammals because they spend much of their life on sea ice hunting seals.\n",
      "\n",
      "Each of these animals has unique adaptations and behaviors that make them fascinating subjects of study within marine biology.\n"
     ]
    }
   ],
   "source": [
    "# Message list with a preamble\n",
    "messages = [AIMessage(\"Hi.\", name=\"Bot\", id=\"1\")]\n",
    "messages.append(HumanMessage(\"Hi.\", name=\"Lance\", id=\"2\"))\n",
    "messages.append(\n",
    "    AIMessage(\"So you said you were researching ocean mammals?\", name=\"Bot\", id=\"3\")\n",
    ")\n",
    "messages.append(\n",
    "    HumanMessage(\n",
    "        \"Yes, I know about whales. But what others should I learn about?\",\n",
    "        name=\"Lance\",\n",
    "        id=\"4\",\n",
    "    )\n",
    ")\n",
    "\n",
    "# Invoke\n",
    "output = graph.invoke({\"messages\": messages})\n",
    "for m in output[\"messages\"]:\n",
    "    m.pretty_print()"
   ]
  },
  {
   "cell_type": "markdown",
   "id": "f506457d-014b-4fee-a684-e5edfb4b8f0d",
   "metadata": {},
   "source": [
    "## Filtering messages\n",
    "\n",
    "If you don't need or want to modify the graph state, you can just filter the messages you pass to the chat model.\n",
    "\n",
    "For example, just pass in a filtered list: `llm.invoke(messages[-1:])` to the model."
   ]
  },
  {
   "cell_type": "code",
   "execution_count": 10,
   "id": "22d0b904-7cd6-486b-8948-105bee3d4683",
   "metadata": {},
   "outputs": [
    {
     "data": {
      "image/png": "[encoded data removed]",
      "text/plain": [
       "<IPython.core.display.Image object>"
      ]
     },
     "metadata": {},
     "output_type": "display_data"
    }
   ],
   "source": [
    "# Node\n",
    "def chat_model_node(state: MessagesState):\n",
    "    return {\"messages\": [llm.invoke(state[\"messages\"][-1:])]}\n",
    "\n",
    "\n",
    "# Build graph\n",
    "builder = StateGraph(MessagesState)\n",
    "builder.add_node(\"chat_model\", chat_model_node)\n",
    "builder.add_edge(START, \"chat_model\")\n",
    "builder.add_edge(\"chat_model\", END)\n",
    "graph = builder.compile()\n",
    "\n",
    "# View\n",
    "display(Image(graph.get_graph().draw_mermaid_png()))"
   ]
  },
  {
   "cell_type": "markdown",
   "id": "6f58c6fc-532f-418d-b70a-cfcb3307daf5",
   "metadata": {},
   "source": [
    "Let's take our existing list of messages, append the above LLM response, and append a follow-up question."
   ]
  },
  {
   "cell_type": "code",
   "execution_count": 11,
   "id": "16956015-1dbe-4108-89b5-4209b68b51ca",
   "metadata": {},
   "outputs": [],
   "source": [
    "messages.append(output[\"messages\"][-1])\n",
    "messages.append(HumanMessage(f\"Tell me more about Narwhals!\", name=\"Lance\"))"
   ]
  },
  {
   "cell_type": "code",
   "execution_count": 12,
   "id": "85563415-c085-46a8-a4ac-155df798c54e",
   "metadata": {},
   "outputs": [
    {
     "name": "stdout",
     "output_type": "stream",
     "text": [
      "==================================\u001b[1m Ai Message \u001b[0m==================================\n",
      "Name: Bot\n",
      "\n",
      "Hi.\n",
      "================================\u001b[1m Human Message \u001b[0m=================================\n",
      "Name: Lance\n",
      "\n",
      "Hi.\n",
      "==================================\u001b[1m Ai Message \u001b[0m==================================\n",
      "Name: Bot\n",
      "\n",
      "So you said you were researching ocean mammals?\n",
      "================================\u001b[1m Human Message \u001b[0m=================================\n",
      "Name: Lance\n",
      "\n",
      "Yes, I know about whales. But what others should I learn about?\n",
      "==================================\u001b[1m Ai Message \u001b[0m==================================\n",
      "\n",
      "In addition to whales, there are several other fascinating ocean mammals that you might want to explore:\n",
      "\n",
      "1. **Dolphins**: These intelligent and social creatures are relatives of whales and are found in oceans around the world. They are known for their playful behavior and complex communication skills.\n",
      "\n",
      "2. **Porpoises**: These are smaller than dolphins and have shorter beaks and different shaped fins. Porpoises are often shyer and less acrobatic than their dolphin relatives.\n",
      "\n",
      "3. **Seals**: These include various species such as the harbor seal and the elephant seal. Seals are common along coastlines and are known for their ability to swim long distances and dive deep into the ocean.\n",
      "\n",
      "4. **Sea Lions**: These are members of the eared seal family and are characterized by their external ear flaps and large flippers, which allow them to \"walk\" on land.\n",
      "\n",
      "5. **Walrus**: Known for their long tusks and whiskers, walruses are large marine mammals that primarily inhabit Arctic regions. They are closely related to seals and sea lions.\n",
      "\n",
      "6. **Manatees and Dugongs**: Often referred to as \"sea cows,\" these large, gentle herbivores are found in warm coastal waters and rivers. They are known for their slow movement and grazing on seagrasses.\n",
      "\n",
      "7. **Sea Otters**: Although they spend much of their time in the water, sea otters are unique for their use of tools, such as rocks to open shellfish, while floating on their backs.\n",
      "\n",
      "8. **Polar Bears**: While primarily land mammals, polar bears are considered marine mammals because they spend much of their life on sea ice hunting seals.\n",
      "\n",
      "Each of these animals has unique adaptations and behaviors that make them fascinating subjects of study within marine biology.\n",
      "================================\u001b[1m Human Message \u001b[0m=================================\n",
      "Name: Lance\n",
      "\n",
      "Tell me more about Narwhals!\n"
     ]
    }
   ],
   "source": [
    "for m in messages:\n",
    "    m.pretty_print()"
   ]
  },
  {
   "cell_type": "code",
   "execution_count": 13,
   "id": "23349705-a059-47b5-9760-d8f64e687393",
   "metadata": {},
   "outputs": [
    {
     "name": "stdout",
     "output_type": "stream",
     "text": [
      "==================================\u001b[1m Ai Message \u001b[0m==================================\n",
      "Name: Bot\n",
      "\n",
      "Hi.\n",
      "================================\u001b[1m Human Message \u001b[0m=================================\n",
      "Name: Lance\n",
      "\n",
      "Hi.\n",
      "==================================\u001b[1m Ai Message \u001b[0m==================================\n",
      "Name: Bot\n",
      "\n",
      "So you said you were researching ocean mammals?\n",
      "================================\u001b[1m Human Message \u001b[0m=================================\n",
      "Name: Lance\n",
      "\n",
      "Yes, I know about whales. But what others should I learn about?\n",
      "==================================\u001b[1m Ai Message \u001b[0m==================================\n",
      "\n",
      "In addition to whales, there are several other fascinating ocean mammals that you might want to explore:\n",
      "\n",
      "1. **Dolphins**: These intelligent and social creatures are relatives of whales and are found in oceans around the world. They are known for their playful behavior and complex communication skills.\n",
      "\n",
      "2. **Porpoises**: These are smaller than dolphins and have shorter beaks and different shaped fins. Porpoises are often shyer and less acrobatic than their dolphin relatives.\n",
      "\n",
      "3. **Seals**: These include various species such as the harbor seal and the elephant seal. Seals are common along coastlines and are known for their ability to swim long distances and dive deep into the ocean.\n",
      "\n",
      "4. **Sea Lions**: These are members of the eared seal family and are characterized by their external ear flaps and large flippers, which allow them to \"walk\" on land.\n",
      "\n",
      "5. **Walrus**: Known for their long tusks and whiskers, walruses are large marine mammals that primarily inhabit Arctic regions. They are closely related to seals and sea lions.\n",
      "\n",
      "6. **Manatees and Dugongs**: Often referred to as \"sea cows,\" these large, gentle herbivores are found in warm coastal waters and rivers. They are known for their slow movement and grazing on seagrasses.\n",
      "\n",
      "7. **Sea Otters**: Although they spend much of their time in the water, sea otters are unique for their use of tools, such as rocks to open shellfish, while floating on their backs.\n",
      "\n",
      "8. **Polar Bears**: While primarily land mammals, polar bears are considered marine mammals because they spend much of their life on sea ice hunting seals.\n",
      "\n",
      "Each of these animals has unique adaptations and behaviors that make them fascinating subjects of study within marine biology.\n",
      "================================\u001b[1m Human Message \u001b[0m=================================\n",
      "Name: Lance\n",
      "\n",
      "Tell me more about Narwhals!\n",
      "==================================\u001b[1m Ai Message \u001b[0m==================================\n",
      "\n",
      "Narwhals are fascinating and unique marine mammals known for their distinctive long, spiral tusks, which can grow up to 10 feet (about 3 meters) in length. They belong to the Monodontidae family and are closely related to beluga whales. Here are some interesting facts about narwhals:\n",
      "\n",
      "1. **Habitat**: Narwhals are primarily found in the cold waters of the Arctic, around Greenland, Canada, and Russia. They are well adapted to life in icy environments and are often seen in areas covered by thick sea ice.\n",
      "\n",
      "2. **Physical Characteristics**: Beyond their tusks, narwhals have a mottled gray body that helps them blend into their icy surroundings. Adult narwhals typically measure about 13 to 20 feet (4 to 6 meters) long, excluding their tusks, and weigh between 1,800 and 3,500 pounds (800 to 1,600 kilograms).\n",
      "\n",
      "3. **The Tusk**: The tusk is actually an elongated left incisor tooth that projects through the upper lip. The purpose of the tusk is still not entirely understood, although it is believed to play a role in social interactions, mate selection, and possibly sensing the environment. Male narwhals are more likely to have a long tusk, while females with tusks are less common.\n",
      "\n",
      "4. **Diet**: Narwhals primarily feed on fish such as Arctic cod and Greenland halibut, as well as squid and shrimp. They are deep divers, capable of reaching depths of over 4,900 feet (1,500 meters) in search of food.\n",
      "\n",
      "5. **Behavior**: Narwhals are social creatures that typically travel in pods of 10 to 20 individuals, although larger groups have been observed. They communicate using a variety of vocalizations, including clicks, whistles, and knocks.\n",
      "\n",
      "6. **Conservation Status**: Narwhals are currently classified as \"Near Threatened\" by the International Union for Conservation of Nature (IUCN), primarily due to threats from climate change, which affects their icy habitat, and increased human activities such as shipping and resource exploration in the Arctic.\n",
      "\n",
      "7. **Cultural Significance**: Narwhals have long held a place in the cultural traditions of Indigenous peoples in the Arctic. Their tusks were historically traded as \"unicorn horns\" in medieval Europe, leading to a variety of myths and legends.\n",
      "\n",
      "8. **Research and Study**: Scientists continue to study narwhals to better understand their behavior, biology, and how they may be affected by environmental changes. This research is crucial for developing conservation strategies to protect these remarkable animals.\n",
      "\n",
      "Narwhals remain one of the most enigmatic creatures of the ocean, capturing the imagination of researchers and the public alike with their mysterious tusks and adapted lifestyle in one of Earth's most extreme environments.\n"
     ]
    }
   ],
   "source": [
    "# Invoke, using message filtering\n",
    "output = graph.invoke({\"messages\": messages})\n",
    "for m in output[\"messages\"]:\n",
    "    m.pretty_print()"
   ]
  },
  {
   "cell_type": "markdown",
   "id": "42e1d8d2-e297-4d78-b54c-d12b3c866745",
   "metadata": {},
   "source": [
    "The state has all of the mesages.\n",
    "\n",
    "But, let's look at the LangSmith trace to see that the model invocation only uses the last message:"
   ]
  },
  {
   "cell_type": "markdown",
   "id": "fc40d930-3c1f-47fe-8d2a-ce174873353c",
   "metadata": {},
   "source": [
    "## Trim messages\n",
    "\n",
    "Another approach is to [trim messages](https://python.langchain.com/v0.2/docs/how_to/trim_messages/#getting-the-last-max_tokens-tokens), based upon a set number of tokens. \n",
    "\n",
    "This restricts the message history to a specified number of tokens.\n",
    "\n",
    "While filtering only returns a post-hoc subset of the messages between agents, trimming restricts the number of tokens that a chat model can use to respond.\n",
    "\n",
    "See the `trim_messages` below."
   ]
  },
  {
   "cell_type": "code",
   "execution_count": 14,
   "id": "2ff99b81-cf03-4cc2-b44f-44829a73e1fd",
   "metadata": {},
   "outputs": [
    {
     "data": {
      "image/png": "[encoded data removed]",
      "text/plain": [
       "<IPython.core.display.Image object>"
      ]
     },
     "metadata": {},
     "output_type": "display_data"
    }
   ],
   "source": [
    "from langchain_core.messages import trim_messages\n",
    "\n",
    "\n",
    "# Node\n",
    "def chat_model_node(state: MessagesState):\n",
    "    messages = trim_messages(\n",
    "        state[\"messages\"],\n",
    "        max_tokens=100,\n",
    "        strategy=\"last\",\n",
    "        token_counter=ChatOpenAI(model=\"gpt-4o\"),\n",
    "        allow_partial=False,\n",
    "    )\n",
    "\n",
    "    return {\"messages\": [llm.invoke(messages)]}\n",
    "\n",
    "\n",
    "# Build graph\n",
    "builder = StateGraph(MessagesState)\n",
    "builder.add_node(\"chat_model\", chat_model_node)\n",
    "builder.add_edge(START, \"chat_model\")\n",
    "builder.add_edge(\"chat_model\", END)\n",
    "graph = builder.compile()\n",
    "\n",
    "# View\n",
    "display(Image(graph.get_graph().draw_mermaid_png()))"
   ]
  },
  {
   "cell_type": "code",
   "execution_count": 15,
   "id": "24df63ac-da29-4874-b3df-7e390e97cc8a",
   "metadata": {},
   "outputs": [],
   "source": [
    "messages.append(output[\"messages\"][-1])\n",
    "messages.append(HumanMessage(f\"Tell me where Orcas live!\", name=\"Lance\"))"
   ]
  },
  {
   "cell_type": "code",
   "execution_count": 16,
   "id": "932f97a8",
   "metadata": {},
   "outputs": [
    {
     "data": {
      "text/plain": [
       "[AIMessage(content='Hi.', additional_kwargs={}, response_metadata={}, name='Bot', id='1'),\n",
       " HumanMessage(content='Hi.', additional_kwargs={}, response_metadata={}, name='Lance', id='2'),\n",
       " AIMessage(content='So you said you were researching ocean mammals?', additional_kwargs={}, response_metadata={}, name='Bot', id='3'),\n",
       " HumanMessage(content='Yes, I know about whales. But what others should I learn about?', additional_kwargs={}, response_metadata={}, name='Lance', id='4'),\n",
       " AIMessage(content='In addition to whales, there are several other fascinating ocean mammals that you might want to explore:\\n\\n1. **Dolphins**: These intelligent and social creatures are relatives of whales and are found in oceans around the world. They are known for their playful behavior and complex communication skills.\\n\\n2. **Porpoises**: These are smaller than dolphins and have shorter beaks and different shaped fins. Porpoises are often shyer and less acrobatic than their dolphin relatives.\\n\\n3. **Seals**: These include various species such as the harbor seal and the elephant seal. Seals are common along coastlines and are known for their ability to swim long distances and dive deep into the ocean.\\n\\n4. **Sea Lions**: These are members of the eared seal family and are characterized by their external ear flaps and large flippers, which allow them to \"walk\" on land.\\n\\n5. **Walrus**: Known for their long tusks and whiskers, walruses are large marine mammals that primarily inhabit Arctic regions. They are closely related to seals and sea lions.\\n\\n6. **Manatees and Dugongs**: Often referred to as \"sea cows,\" these large, gentle herbivores are found in warm coastal waters and rivers. They are known for their slow movement and grazing on seagrasses.\\n\\n7. **Sea Otters**: Although they spend much of their time in the water, sea otters are unique for their use of tools, such as rocks to open shellfish, while floating on their backs.\\n\\n8. **Polar Bears**: While primarily land mammals, polar bears are considered marine mammals because they spend much of their life on sea ice hunting seals.\\n\\nEach of these animals has unique adaptations and behaviors that make them fascinating subjects of study within marine biology.', additional_kwargs={'refusal': None}, response_metadata={'token_usage': {'completion_tokens': 367, 'prompt_tokens': 39, 'total_tokens': 406, 'completion_tokens_details': {'accepted_prediction_tokens': 0, 'audio_tokens': 0, 'reasoning_tokens': 0, 'rejected_prediction_tokens': 0}, 'prompt_tokens_details': {'audio_tokens': 0, 'cached_tokens': 0}}, 'model_name': 'gpt-4o-2024-08-06', 'system_fingerprint': 'fp_90d33c15d4', 'id': 'chatcmpl-BCLpU4azrnoQS69Bo50Yh3fwaJzSl', 'finish_reason': 'stop', 'logprobs': None}, id='run-97f22d85-1da5-423a-9f9c-aecabbb5d0ab-0', usage_metadata={'input_tokens': 39, 'output_tokens': 367, 'total_tokens': 406, 'input_token_details': {'audio': 0, 'cache_read': 0}, 'output_token_details': {'audio': 0, 'reasoning': 0}}),\n",
       " HumanMessage(content='Tell me more about Narwhals!', additional_kwargs={}, response_metadata={}, name='Lance', id='f3dc8035-f946-4e98-970a-7399730597e1'),\n",
       " AIMessage(content='Narwhals are fascinating and unique marine mammals known for their distinctive long, spiral tusks, which can grow up to 10 feet (about 3 meters) in length. They belong to the Monodontidae family and are closely related to beluga whales. Here are some interesting facts about narwhals:\\n\\n1. **Habitat**: Narwhals are primarily found in the cold waters of the Arctic, around Greenland, Canada, and Russia. They are well adapted to life in icy environments and are often seen in areas covered by thick sea ice.\\n\\n2. **Physical Characteristics**: Beyond their tusks, narwhals have a mottled gray body that helps them blend into their icy surroundings. Adult narwhals typically measure about 13 to 20 feet (4 to 6 meters) long, excluding their tusks, and weigh between 1,800 and 3,500 pounds (800 to 1,600 kilograms).\\n\\n3. **The Tusk**: The tusk is actually an elongated left incisor tooth that projects through the upper lip. The purpose of the tusk is still not entirely understood, although it is believed to play a role in social interactions, mate selection, and possibly sensing the environment. Male narwhals are more likely to have a long tusk, while females with tusks are less common.\\n\\n4. **Diet**: Narwhals primarily feed on fish such as Arctic cod and Greenland halibut, as well as squid and shrimp. They are deep divers, capable of reaching depths of over 4,900 feet (1,500 meters) in search of food.\\n\\n5. **Behavior**: Narwhals are social creatures that typically travel in pods of 10 to 20 individuals, although larger groups have been observed. They communicate using a variety of vocalizations, including clicks, whistles, and knocks.\\n\\n6. **Conservation Status**: Narwhals are currently classified as \"Near Threatened\" by the International Union for Conservation of Nature (IUCN), primarily due to threats from climate change, which affects their icy habitat, and increased human activities such as shipping and resource exploration in the Arctic.\\n\\n7. **Cultural Significance**: Narwhals have long held a place in the cultural traditions of Indigenous peoples in the Arctic. Their tusks were historically traded as \"unicorn horns\" in medieval Europe, leading to a variety of myths and legends.\\n\\n8. **Research and Study**: Scientists continue to study narwhals to better understand their behavior, biology, and how they may be affected by environmental changes. This research is crucial for developing conservation strategies to protect these remarkable animals.\\n\\nNarwhals remain one of the most enigmatic creatures of the ocean, capturing the imagination of researchers and the public alike with their mysterious tusks and adapted lifestyle in one of Earth\\'s most extreme environments.', additional_kwargs={'refusal': None}, response_metadata={'token_usage': {'completion_tokens': 581, 'prompt_tokens': 17, 'total_tokens': 598, 'completion_tokens_details': {'accepted_prediction_tokens': 0, 'audio_tokens': 0, 'reasoning_tokens': 0, 'rejected_prediction_tokens': 0}, 'prompt_tokens_details': {'audio_tokens': 0, 'cached_tokens': 0}}, 'model_name': 'gpt-4o-2024-08-06', 'system_fingerprint': 'fp_f9f4fb6dbf', 'id': 'chatcmpl-BCNMEBu1G86FFx4WM6FsKP5DWTmk1', 'finish_reason': 'stop', 'logprobs': None}, id='run-81c5ff66-98e0-431a-9dca-05e22f8dfa36-0', usage_metadata={'input_tokens': 17, 'output_tokens': 581, 'total_tokens': 598, 'input_token_details': {'audio': 0, 'cache_read': 0}, 'output_token_details': {'audio': 0, 'reasoning': 0}}),\n",
       " HumanMessage(content='Tell me where Orcas live!', additional_kwargs={}, response_metadata={}, name='Lance')]"
      ]
     },
     "execution_count": 16,
     "metadata": {},
     "output_type": "execute_result"
    }
   ],
   "source": [
    "messages"
   ]
  },
  {
   "cell_type": "code",
   "execution_count": 17,
   "id": "6d9d8971-c75c-43ca-a209-eb1d07b2ead0",
   "metadata": {},
   "outputs": [
    {
     "data": {
      "text/plain": [
       "[HumanMessage(content='Tell me where Orcas live!', additional_kwargs={}, response_metadata={}, name='Lance')]"
      ]
     },
     "execution_count": 17,
     "metadata": {},
     "output_type": "execute_result"
    }
   ],
   "source": [
    "# Example of trimming messages\n",
    "trim_messages(\n",
    "    messages,\n",
    "    max_tokens=100,\n",
    "    strategy=\"last\",\n",
    "    token_counter=ChatOpenAI(model=\"gpt-4o\"),\n",
    "    allow_partial=False,\n",
    ")"
   ]
  },
  {
   "cell_type": "code",
   "execution_count": 18,
   "id": "ed70a269-a869-4fa0-a1df-29736a432c51",
   "metadata": {},
   "outputs": [],
   "source": [
    "# Invoke, using message trimming in the chat_model_node\n",
    "messages_out_trim = graph.invoke({\"messages\": messages})"
   ]
  },
  {
   "cell_type": "code",
   "execution_count": 20,
   "id": "53d2cbd0",
   "metadata": {},
   "outputs": [
    {
     "data": {
      "text/plain": [
       "[AIMessage(content='Hi.', additional_kwargs={}, response_metadata={}, name='Bot', id='1'),\n",
       " HumanMessage(content='Hi.', additional_kwargs={}, response_metadata={}, name='Lance', id='2'),\n",
       " AIMessage(content='So you said you were researching ocean mammals?', additional_kwargs={}, response_metadata={}, name='Bot', id='3'),\n",
       " HumanMessage(content='Yes, I know about whales. But what others should I learn about?', additional_kwargs={}, response_metadata={}, name='Lance', id='4'),\n",
       " AIMessage(content='In addition to whales, there are several other fascinating ocean mammals that you might want to explore:\\n\\n1. **Dolphins**: These intelligent and social creatures are relatives of whales and are found in oceans around the world. They are known for their playful behavior and complex communication skills.\\n\\n2. **Porpoises**: These are smaller than dolphins and have shorter beaks and different shaped fins. Porpoises are often shyer and less acrobatic than their dolphin relatives.\\n\\n3. **Seals**: These include various species such as the harbor seal and the elephant seal. Seals are common along coastlines and are known for their ability to swim long distances and dive deep into the ocean.\\n\\n4. **Sea Lions**: These are members of the eared seal family and are characterized by their external ear flaps and large flippers, which allow them to \"walk\" on land.\\n\\n5. **Walrus**: Known for their long tusks and whiskers, walruses are large marine mammals that primarily inhabit Arctic regions. They are closely related to seals and sea lions.\\n\\n6. **Manatees and Dugongs**: Often referred to as \"sea cows,\" these large, gentle herbivores are found in warm coastal waters and rivers. They are known for their slow movement and grazing on seagrasses.\\n\\n7. **Sea Otters**: Although they spend much of their time in the water, sea otters are unique for their use of tools, such as rocks to open shellfish, while floating on their backs.\\n\\n8. **Polar Bears**: While primarily land mammals, polar bears are considered marine mammals because they spend much of their life on sea ice hunting seals.\\n\\nEach of these animals has unique adaptations and behaviors that make them fascinating subjects of study within marine biology.', additional_kwargs={'refusal': None}, response_metadata={'token_usage': {'completion_tokens': 367, 'prompt_tokens': 39, 'total_tokens': 406, 'completion_tokens_details': {'accepted_prediction_tokens': 0, 'audio_tokens': 0, 'reasoning_tokens': 0, 'rejected_prediction_tokens': 0}, 'prompt_tokens_details': {'audio_tokens': 0, 'cached_tokens': 0}}, 'model_name': 'gpt-4o-2024-08-06', 'system_fingerprint': 'fp_90d33c15d4', 'id': 'chatcmpl-BCLpU4azrnoQS69Bo50Yh3fwaJzSl', 'finish_reason': 'stop', 'logprobs': None}, id='run-97f22d85-1da5-423a-9f9c-aecabbb5d0ab-0', usage_metadata={'input_tokens': 39, 'output_tokens': 367, 'total_tokens': 406, 'input_token_details': {'audio': 0, 'cache_read': 0}, 'output_token_details': {'audio': 0, 'reasoning': 0}}),\n",
       " HumanMessage(content='Tell me more about Narwhals!', additional_kwargs={}, response_metadata={}, name='Lance', id='f3dc8035-f946-4e98-970a-7399730597e1'),\n",
       " AIMessage(content='Narwhals are fascinating and unique marine mammals known for their distinctive long, spiral tusks, which can grow up to 10 feet (about 3 meters) in length. They belong to the Monodontidae family and are closely related to beluga whales. Here are some interesting facts about narwhals:\\n\\n1. **Habitat**: Narwhals are primarily found in the cold waters of the Arctic, around Greenland, Canada, and Russia. They are well adapted to life in icy environments and are often seen in areas covered by thick sea ice.\\n\\n2. **Physical Characteristics**: Beyond their tusks, narwhals have a mottled gray body that helps them blend into their icy surroundings. Adult narwhals typically measure about 13 to 20 feet (4 to 6 meters) long, excluding their tusks, and weigh between 1,800 and 3,500 pounds (800 to 1,600 kilograms).\\n\\n3. **The Tusk**: The tusk is actually an elongated left incisor tooth that projects through the upper lip. The purpose of the tusk is still not entirely understood, although it is believed to play a role in social interactions, mate selection, and possibly sensing the environment. Male narwhals are more likely to have a long tusk, while females with tusks are less common.\\n\\n4. **Diet**: Narwhals primarily feed on fish such as Arctic cod and Greenland halibut, as well as squid and shrimp. They are deep divers, capable of reaching depths of over 4,900 feet (1,500 meters) in search of food.\\n\\n5. **Behavior**: Narwhals are social creatures that typically travel in pods of 10 to 20 individuals, although larger groups have been observed. They communicate using a variety of vocalizations, including clicks, whistles, and knocks.\\n\\n6. **Conservation Status**: Narwhals are currently classified as \"Near Threatened\" by the International Union for Conservation of Nature (IUCN), primarily due to threats from climate change, which affects their icy habitat, and increased human activities such as shipping and resource exploration in the Arctic.\\n\\n7. **Cultural Significance**: Narwhals have long held a place in the cultural traditions of Indigenous peoples in the Arctic. Their tusks were historically traded as \"unicorn horns\" in medieval Europe, leading to a variety of myths and legends.\\n\\n8. **Research and Study**: Scientists continue to study narwhals to better understand their behavior, biology, and how they may be affected by environmental changes. This research is crucial for developing conservation strategies to protect these remarkable animals.\\n\\nNarwhals remain one of the most enigmatic creatures of the ocean, capturing the imagination of researchers and the public alike with their mysterious tusks and adapted lifestyle in one of Earth\\'s most extreme environments.', additional_kwargs={'refusal': None}, response_metadata={'token_usage': {'completion_tokens': 581, 'prompt_tokens': 17, 'total_tokens': 598, 'completion_tokens_details': {'accepted_prediction_tokens': 0, 'audio_tokens': 0, 'reasoning_tokens': 0, 'rejected_prediction_tokens': 0}, 'prompt_tokens_details': {'audio_tokens': 0, 'cached_tokens': 0}}, 'model_name': 'gpt-4o-2024-08-06', 'system_fingerprint': 'fp_f9f4fb6dbf', 'id': 'chatcmpl-BCNMEBu1G86FFx4WM6FsKP5DWTmk1', 'finish_reason': 'stop', 'logprobs': None}, id='run-81c5ff66-98e0-431a-9dca-05e22f8dfa36-0', usage_metadata={'input_tokens': 17, 'output_tokens': 581, 'total_tokens': 598, 'input_token_details': {'audio': 0, 'cache_read': 0}, 'output_token_details': {'audio': 0, 'reasoning': 0}}),\n",
       " HumanMessage(content='Tell me where Orcas live!', additional_kwargs={}, response_metadata={}, name='Lance', id='424ae463-e42d-4404-8601-0f99b91bd5b6')]"
      ]
     },
     "execution_count": 20,
     "metadata": {},
     "output_type": "execute_result"
    }
   ],
   "source": [
    "messages"
   ]
  },
  {
   "cell_type": "code",
   "execution_count": 19,
   "id": "39217325",
   "metadata": {},
   "outputs": [
    {
     "data": {
      "text/plain": [
       "{'messages': [AIMessage(content='Hi.', additional_kwargs={}, response_metadata={}, name='Bot', id='1'),\n",
       "  HumanMessage(content='Hi.', additional_kwargs={}, response_metadata={}, name='Lance', id='2'),\n",
       "  AIMessage(content='So you said you were researching ocean mammals?', additional_kwargs={}, response_metadata={}, name='Bot', id='3'),\n",
       "  HumanMessage(content='Yes, I know about whales. But what others should I learn about?', additional_kwargs={}, response_metadata={}, name='Lance', id='4'),\n",
       "  AIMessage(content='In addition to whales, there are several other fascinating ocean mammals that you might want to explore:\\n\\n1. **Dolphins**: These intelligent and social creatures are relatives of whales and are found in oceans around the world. They are known for their playful behavior and complex communication skills.\\n\\n2. **Porpoises**: These are smaller than dolphins and have shorter beaks and different shaped fins. Porpoises are often shyer and less acrobatic than their dolphin relatives.\\n\\n3. **Seals**: These include various species such as the harbor seal and the elephant seal. Seals are common along coastlines and are known for their ability to swim long distances and dive deep into the ocean.\\n\\n4. **Sea Lions**: These are members of the eared seal family and are characterized by their external ear flaps and large flippers, which allow them to \"walk\" on land.\\n\\n5. **Walrus**: Known for their long tusks and whiskers, walruses are large marine mammals that primarily inhabit Arctic regions. They are closely related to seals and sea lions.\\n\\n6. **Manatees and Dugongs**: Often referred to as \"sea cows,\" these large, gentle herbivores are found in warm coastal waters and rivers. They are known for their slow movement and grazing on seagrasses.\\n\\n7. **Sea Otters**: Although they spend much of their time in the water, sea otters are unique for their use of tools, such as rocks to open shellfish, while floating on their backs.\\n\\n8. **Polar Bears**: While primarily land mammals, polar bears are considered marine mammals because they spend much of their life on sea ice hunting seals.\\n\\nEach of these animals has unique adaptations and behaviors that make them fascinating subjects of study within marine biology.', additional_kwargs={'refusal': None}, response_metadata={'token_usage': {'completion_tokens': 367, 'prompt_tokens': 39, 'total_tokens': 406, 'completion_tokens_details': {'accepted_prediction_tokens': 0, 'audio_tokens': 0, 'reasoning_tokens': 0, 'rejected_prediction_tokens': 0}, 'prompt_tokens_details': {'audio_tokens': 0, 'cached_tokens': 0}}, 'model_name': 'gpt-4o-2024-08-06', 'system_fingerprint': 'fp_90d33c15d4', 'id': 'chatcmpl-BCLpU4azrnoQS69Bo50Yh3fwaJzSl', 'finish_reason': 'stop', 'logprobs': None}, id='run-97f22d85-1da5-423a-9f9c-aecabbb5d0ab-0', usage_metadata={'input_tokens': 39, 'output_tokens': 367, 'total_tokens': 406, 'input_token_details': {'audio': 0, 'cache_read': 0}, 'output_token_details': {'audio': 0, 'reasoning': 0}}),\n",
       "  HumanMessage(content='Tell me more about Narwhals!', additional_kwargs={}, response_metadata={}, name='Lance', id='f3dc8035-f946-4e98-970a-7399730597e1'),\n",
       "  AIMessage(content='Narwhals are fascinating and unique marine mammals known for their distinctive long, spiral tusks, which can grow up to 10 feet (about 3 meters) in length. They belong to the Monodontidae family and are closely related to beluga whales. Here are some interesting facts about narwhals:\\n\\n1. **Habitat**: Narwhals are primarily found in the cold waters of the Arctic, around Greenland, Canada, and Russia. They are well adapted to life in icy environments and are often seen in areas covered by thick sea ice.\\n\\n2. **Physical Characteristics**: Beyond their tusks, narwhals have a mottled gray body that helps them blend into their icy surroundings. Adult narwhals typically measure about 13 to 20 feet (4 to 6 meters) long, excluding their tusks, and weigh between 1,800 and 3,500 pounds (800 to 1,600 kilograms).\\n\\n3. **The Tusk**: The tusk is actually an elongated left incisor tooth that projects through the upper lip. The purpose of the tusk is still not entirely understood, although it is believed to play a role in social interactions, mate selection, and possibly sensing the environment. Male narwhals are more likely to have a long tusk, while females with tusks are less common.\\n\\n4. **Diet**: Narwhals primarily feed on fish such as Arctic cod and Greenland halibut, as well as squid and shrimp. They are deep divers, capable of reaching depths of over 4,900 feet (1,500 meters) in search of food.\\n\\n5. **Behavior**: Narwhals are social creatures that typically travel in pods of 10 to 20 individuals, although larger groups have been observed. They communicate using a variety of vocalizations, including clicks, whistles, and knocks.\\n\\n6. **Conservation Status**: Narwhals are currently classified as \"Near Threatened\" by the International Union for Conservation of Nature (IUCN), primarily due to threats from climate change, which affects their icy habitat, and increased human activities such as shipping and resource exploration in the Arctic.\\n\\n7. **Cultural Significance**: Narwhals have long held a place in the cultural traditions of Indigenous peoples in the Arctic. Their tusks were historically traded as \"unicorn horns\" in medieval Europe, leading to a variety of myths and legends.\\n\\n8. **Research and Study**: Scientists continue to study narwhals to better understand their behavior, biology, and how they may be affected by environmental changes. This research is crucial for developing conservation strategies to protect these remarkable animals.\\n\\nNarwhals remain one of the most enigmatic creatures of the ocean, capturing the imagination of researchers and the public alike with their mysterious tusks and adapted lifestyle in one of Earth\\'s most extreme environments.', additional_kwargs={'refusal': None}, response_metadata={'token_usage': {'completion_tokens': 581, 'prompt_tokens': 17, 'total_tokens': 598, 'completion_tokens_details': {'accepted_prediction_tokens': 0, 'audio_tokens': 0, 'reasoning_tokens': 0, 'rejected_prediction_tokens': 0}, 'prompt_tokens_details': {'audio_tokens': 0, 'cached_tokens': 0}}, 'model_name': 'gpt-4o-2024-08-06', 'system_fingerprint': 'fp_f9f4fb6dbf', 'id': 'chatcmpl-BCNMEBu1G86FFx4WM6FsKP5DWTmk1', 'finish_reason': 'stop', 'logprobs': None}, id='run-81c5ff66-98e0-431a-9dca-05e22f8dfa36-0', usage_metadata={'input_tokens': 17, 'output_tokens': 581, 'total_tokens': 598, 'input_token_details': {'audio': 0, 'cache_read': 0}, 'output_token_details': {'audio': 0, 'reasoning': 0}}),\n",
       "  HumanMessage(content='Tell me where Orcas live!', additional_kwargs={}, response_metadata={}, name='Lance', id='424ae463-e42d-4404-8601-0f99b91bd5b6'),\n",
       "  AIMessage(content=\"Orcas, also known as killer whales, are found in all of the world's oceans, indicating their versatility and wide range of habitats. Some of the key regions where they are commonly found include:\\n\\n1. **Arctic and Antarctic Regions:** Orcas are often seen in the cold waters of the polar regions, hunting for seals, fish, and even whales.\\n\\n2. **North Atlantic Ocean:** Populations are found off the coasts of Norway, Iceland, and the United Kingdom, where they prey on herring and other fish.\\n\\n3. **North Pacific Ocean:** They are prevalent from the Bering Sea south to California in the eastern Pacific, and from Russia to Japan in the western Pacific. The coastal waters of British Columbia and Washington State are particularly well known for resident orca populations.\\n\\n4. **Southern Ocean:** They are found around Antarctica and are known to hunt in packs, making them effective predators in this region.\\n\\n5. **Temperate and Tropical Oceans:** While more sparse, orcas can also be found in warmer waters, such as those around New Zealand, Australia, South America, and South Africa.\\n\\nOrcas are highly adaptable and can live in both deep ocean environments and coastal waters. They are known to forage depending on the availability of prey, which influences their distribution globally. Different ecotypes of orcas have specialized diets and behaviors, which further affect where they are found.\", additional_kwargs={'refusal': None}, response_metadata={'token_usage': {'completion_tokens': 281, 'prompt_tokens': 16, 'total_tokens': 297, 'completion_tokens_details': {'accepted_prediction_tokens': 0, 'audio_tokens': 0, 'reasoning_tokens': 0, 'rejected_prediction_tokens': 0}, 'prompt_tokens_details': {'audio_tokens': 0, 'cached_tokens': 0}}, 'model_name': 'gpt-4o-2024-08-06', 'system_fingerprint': 'fp_90d33c15d4', 'id': 'chatcmpl-BCNeyPpizf1xBMsvZVN8IeVeVHX1R', 'finish_reason': 'stop', 'logprobs': None}, id='run-98499877-cab8-4c4a-bf9b-964111104e0f-0', usage_metadata={'input_tokens': 16, 'output_tokens': 281, 'total_tokens': 297, 'input_token_details': {'audio': 0, 'cache_read': 0}, 'output_token_details': {'audio': 0, 'reasoning': 0}})]}"
      ]
     },
     "execution_count": 19,
     "metadata": {},
     "output_type": "execute_result"
    }
   ],
   "source": [
    "messages_out_trim"
   ]
  },
  {
   "cell_type": "markdown",
   "id": "38b3db67-380e-46b5-9a6a-20100ba52008",
   "metadata": {},
   "source": [
    "Let's look at the LangSmith trace to see the model invocation:"
   ]
  },
  {
   "cell_type": "markdown",
   "id": "23280186",
   "metadata": {},
   "source": []
  }
 ],
 "metadata": {
  "kernelspec": {
   "display_name": "langchain",
   "language": "python",
   "name": "python3"
  },
  "language_info": {
   "codemirror_mode": {
    "name": "ipython",
    "version": 3
   },
   "file_extension": ".py",
   "mimetype": "text/x-python",
   "name": "python",
   "nbconvert_exporter": "python",
   "pygments_lexer": "ipython3",
   "version": "3.12.9"
  }
 },
 "nbformat": 4,
 "nbformat_minor": 5
}
